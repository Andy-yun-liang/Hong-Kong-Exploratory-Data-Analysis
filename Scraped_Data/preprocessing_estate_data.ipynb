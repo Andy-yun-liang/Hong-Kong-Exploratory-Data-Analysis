{
 "cells": [
  {
   "cell_type": "code",
   "execution_count": 21,
   "id": "1fdadc92",
   "metadata": {},
   "outputs": [],
   "source": [
    "import requests\n",
    "from bs4 import BeautifulSoup\n",
    "import re\n",
    "import pandas as pd"
   ]
  },
  {
   "cell_type": "code",
   "execution_count": 9,
   "id": "3cd0d752",
   "metadata": {},
   "outputs": [],
   "source": [
    "url = \"https://www.midland.com.hk/en/market-insight/leaderboard\"\n",
    "results = requests.get(url)"
   ]
  },
  {
   "cell_type": "code",
   "execution_count": 10,
   "id": "ab7f51bc",
   "metadata": {},
   "outputs": [],
   "source": [
    "doc = BeautifulSoup(results.text,\"html.parser\")"
   ]
  },
  {
   "cell_type": "code",
   "execution_count": 53,
   "id": "9ae195ff",
   "metadata": {},
   "outputs": [
    {
     "data": {
      "text/plain": [
       "['South HorizonsPrice/sq. ft (SFA)$17,176-1.3%Cases24  Total Turnover$265.91M',\n",
       " 'KornhillPrice/sq. ft (SFA)$18,200-0.7%Cases10  Total Turnover$108.77M',\n",
       " 'Heng Fa ChuenPrice/sq. ft (SFA)$15,935-8.1%Cases9  Total Turnover$76.84M',\n",
       " 'Dynasty CourtPrice/sq. ft (SFA)$48,216+3.9%Cases9  Total Turnover$825.3M',\n",
       " 'Lei King WanPrice/sq. ft (SFA)$17,041-8.7%Cases6  Total Turnover$62.1M',\n",
       " 'Residence Bel-AirPrice/sq. ft (SFA)$33,535+11.8%Cases6  Total Turnover$251.38M',\n",
       " 'Nan Fung Sun ChuenPrice/sq. ft (SFA)$15,871-3.9%Cases6  Total Turnover$37.37M',\n",
       " 'Grand PromenadePrice/sq. ft (SFA)$23,437+2.6%Cases5  Total Turnover$57.89M',\n",
       " 'Chi Fu Fa YuenPrice/sq. ft (SFA)$14,005-12.7%Cases5  Total Turnover$33.68M']"
      ]
     },
     "execution_count": 53,
     "metadata": {},
     "output_type": "execute_result"
    }
   ],
   "source": [
    "#information part1\n",
    "#Name of estate, sq.ft, quantity, and turnover rate\n",
    "\n",
    "info1 = []\n",
    "for index in doc.find_all(class_ = \"ulyey3-0 fejfzj\"):\n",
    "    info1.append(index.text)\n",
    "    \n",
    "\n",
    "info1[1:10]\n"
   ]
  },
  {
   "cell_type": "code",
   "execution_count": 48,
   "id": "fb4ec5ec",
   "metadata": {},
   "outputs": [
    {
     "name": "stderr",
     "output_type": "stream",
     "text": [
      "<ipython-input-48-471fe18af516>:2: FutureWarning: The default value of regex will change from True to False in a future version.\n",
      "  rawdf['Estate'] = rawdf[0].str.replace('Pri.+','')\n",
      "<ipython-input-48-471fe18af516>:3: FutureWarning: The default value of regex will change from True to False in a future version.\n",
      "  rawdf['Price/sq.ft'] = rawdf[0].str.replace('\\\\-+.+','')\n",
      "<ipython-input-48-471fe18af516>:4: FutureWarning: The default value of regex will change from True to False in a future version.\n",
      "  rawdf['Price/sq.ft'] = rawdf['Price/sq.ft'].str.replace('\\\\++.+','')\n",
      "<ipython-input-48-471fe18af516>:5: FutureWarning: The default value of regex will change from True to False in a future version.\n",
      "  rawdf['Price/sq.ft'] = rawdf['Price/sq.ft'].str.replace('.+A\\)','')\n",
      "<ipython-input-48-471fe18af516>:6: FutureWarning: The default value of regex will change from True to False in a future version.\n",
      "  rawdf['Quantity'] = rawdf[0].str.replace('.+s','')\n",
      "<ipython-input-48-471fe18af516>:7: FutureWarning: The default value of regex will change from True to False in a future version.\n",
      "  rawdf['Quantity'] = rawdf['Quantity'].str.replace('  .+','')\n",
      "<ipython-input-48-471fe18af516>:8: FutureWarning: The default value of regex will change from True to False in a future version.\n",
      "  rawdf['Total Turnover in Millions'] = rawdf[0].str.replace('.+\\$','')\n"
     ]
    }
   ],
   "source": [
    "rawdf = pd.DataFrame(info1)\n",
    "rawdf['Estate'] = rawdf[0].str.replace('Pri.+','')\n",
    "rawdf['Price/sq.ft'] = rawdf[0].str.replace('\\\\-+.+','')\n",
    "rawdf['Price/sq.ft'] = rawdf['Price/sq.ft'].str.replace('\\\\++.+','')\n",
    "rawdf['Price/sq.ft'] = rawdf['Price/sq.ft'].str.replace('.+A\\)','')\n",
    "rawdf['Quantity'] = rawdf[0].str.replace('.+s','')\n",
    "rawdf['Quantity'] = rawdf['Quantity'].str.replace('  .+','')\n",
    "rawdf['Total Turnover in Millions'] = rawdf[0].str.replace('.+\\$','')\n",
    "rawdf['Total Turnover in Millions'] = rawdf['Total Turnover in Millions'].str.replace('M','')\n",
    "estate_data = rawdf.drop(rawdf.columns[0], axis=1)\n"
   ]
  },
  {
   "cell_type": "code",
   "execution_count": 49,
   "id": "e7a2f0a7",
   "metadata": {},
   "outputs": [
    {
     "data": {
      "text/html": [
       "<div>\n",
       "<style scoped>\n",
       "    .dataframe tbody tr th:only-of-type {\n",
       "        vertical-align: middle;\n",
       "    }\n",
       "\n",
       "    .dataframe tbody tr th {\n",
       "        vertical-align: top;\n",
       "    }\n",
       "\n",
       "    .dataframe thead th {\n",
       "        text-align: right;\n",
       "    }\n",
       "</style>\n",
       "<table border=\"1\" class=\"dataframe\">\n",
       "  <thead>\n",
       "    <tr style=\"text-align: right;\">\n",
       "      <th></th>\n",
       "      <th>Estate</th>\n",
       "      <th>Price/sq.ft</th>\n",
       "      <th>Quantity</th>\n",
       "      <th>Total Turnover in Millions</th>\n",
       "    </tr>\n",
       "  </thead>\n",
       "  <tbody>\n",
       "    <tr>\n",
       "      <th>0</th>\n",
       "      <td>Taikoo Shing</td>\n",
       "      <td>$20,172</td>\n",
       "      <td>29</td>\n",
       "      <td>356.17</td>\n",
       "    </tr>\n",
       "    <tr>\n",
       "      <th>1</th>\n",
       "      <td>South Horizons</td>\n",
       "      <td>$17,176</td>\n",
       "      <td>24</td>\n",
       "      <td>265.91</td>\n",
       "    </tr>\n",
       "    <tr>\n",
       "      <th>2</th>\n",
       "      <td>Kornhill</td>\n",
       "      <td>$18,200</td>\n",
       "      <td>10</td>\n",
       "      <td>108.77</td>\n",
       "    </tr>\n",
       "    <tr>\n",
       "      <th>3</th>\n",
       "      <td>Heng Fa Chuen</td>\n",
       "      <td>$15,935</td>\n",
       "      <td>9</td>\n",
       "      <td>76.84</td>\n",
       "    </tr>\n",
       "    <tr>\n",
       "      <th>4</th>\n",
       "      <td>Dynasty Court</td>\n",
       "      <td>$48,216</td>\n",
       "      <td>9</td>\n",
       "      <td>825.3</td>\n",
       "    </tr>\n",
       "    <tr>\n",
       "      <th>...</th>\n",
       "      <td>...</td>\n",
       "      <td>...</td>\n",
       "      <td>...</td>\n",
       "      <td>...</td>\n",
       "    </tr>\n",
       "    <tr>\n",
       "      <th>175</th>\n",
       "      <td>Caribbean Coast</td>\n",
       "      <td>$12,226</td>\n",
       "      <td>8</td>\n",
       "      <td>60.31</td>\n",
       "    </tr>\n",
       "    <tr>\n",
       "      <th>176</th>\n",
       "      <td>Double Cove</td>\n",
       "      <td>$18,793</td>\n",
       "      <td>8</td>\n",
       "      <td>86.41</td>\n",
       "    </tr>\n",
       "    <tr>\n",
       "      <th>177</th>\n",
       "      <td>Bellagio</td>\n",
       "      <td>$14,429</td>\n",
       "      <td>8</td>\n",
       "      <td>74.54</td>\n",
       "    </tr>\n",
       "    <tr>\n",
       "      <th>178</th>\n",
       "      <td>The Palazzo</td>\n",
       "      <td>$19,891</td>\n",
       "      <td>8</td>\n",
       "      <td>134.48</td>\n",
       "    </tr>\n",
       "    <tr>\n",
       "      <th>179</th>\n",
       "      <td>Century Gateway</td>\n",
       "      <td>$18,036</td>\n",
       "      <td>7</td>\n",
       "      <td>67.94</td>\n",
       "    </tr>\n",
       "  </tbody>\n",
       "</table>\n",
       "<p>180 rows × 4 columns</p>\n",
       "</div>"
      ],
      "text/plain": [
       "              Estate Price/sq.ft Quantity Total Turnover in Millions\n",
       "0       Taikoo Shing     $20,172       29                     356.17\n",
       "1     South Horizons     $17,176       24                     265.91\n",
       "2           Kornhill     $18,200       10                     108.77\n",
       "3      Heng Fa Chuen     $15,935        9                      76.84\n",
       "4      Dynasty Court     $48,216        9                      825.3\n",
       "..               ...         ...      ...                        ...\n",
       "175  Caribbean Coast     $12,226        8                      60.31\n",
       "176      Double Cove     $18,793        8                      86.41\n",
       "177         Bellagio     $14,429        8                      74.54\n",
       "178      The Palazzo     $19,891        8                     134.48\n",
       "179  Century Gateway     $18,036        7                      67.94\n",
       "\n",
       "[180 rows x 4 columns]"
      ]
     },
     "execution_count": 49,
     "metadata": {},
     "output_type": "execute_result"
    }
   ],
   "source": [
    "#saving estate data\n",
    "estate_data.to_c"
   ]
  },
  {
   "cell_type": "code",
   "execution_count": null,
   "id": "cfbd44d8",
   "metadata": {},
   "outputs": [],
   "source": []
  },
  {
   "cell_type": "code",
   "execution_count": null,
   "id": "36be8dfd",
   "metadata": {},
   "outputs": [],
   "source": []
  }
 ],
 "metadata": {
  "kernelspec": {
   "display_name": "Python 3",
   "language": "python",
   "name": "python3"
  },
  "language_info": {
   "codemirror_mode": {
    "name": "ipython",
    "version": 3
   },
   "file_extension": ".py",
   "mimetype": "text/x-python",
   "name": "python",
   "nbconvert_exporter": "python",
   "pygments_lexer": "ipython3",
   "version": "3.8.8"
  }
 },
 "nbformat": 4,
 "nbformat_minor": 5
}
