{
 "cells": [
  {
   "cell_type": "code",
   "execution_count": 1,
   "id": "edcc0f21",
   "metadata": {},
   "outputs": [],
   "source": [
    "import requests\n",
    "import numpy as np\n",
    "import pandas as pd"
   ]
  },
  {
   "cell_type": "code",
   "execution_count": 2,
   "id": "07d180f6",
   "metadata": {},
   "outputs": [],
   "source": [
    "url = 'https://api.yelp.com/v3/businesses/search'\n",
    "key = 'Your key'\n",
    "headers = {\n",
    "    'Authorization': 'Bearer %s' % key\n",
    "}"
   ]
  },
  {
   "cell_type": "code",
   "execution_count": 3,
   "id": "0d1e18b5",
   "metadata": {},
   "outputs": [],
   "source": [
    "def get_businesses(location, term, API_key):\n",
    "    headers = {'Authorization': 'Bearer %s' % API_key}\n",
    "    url = 'https://api.yelp.com/v3/businesses/search'\n",
    "    data = []\n",
    "    for offset in range(0, 2000, 50):\n",
    "        params = {\n",
    "            'limit': 50, \n",
    "            'location': location.replace(' ', '+'),\n",
    "            'term': term.replace(' ', '+'),\n",
    "            'offset': offset,\n",
    "            'radius':40000\n",
    "        }\n",
    "        print(\"Taken:\",offset+50)\n",
    "        response = requests.get(url, headers=headers, params=params)\n",
    "        if response.status_code == 200:\n",
    "            data += response.json()['businesses']\n",
    "        else:\n",
    "            print(\"Can't Request\")\n",
    "            break\n",
    "\n",
    "    return data"
   ]
  },
  {
   "cell_type": "code",
   "execution_count": 4,
   "id": "ec62782f",
   "metadata": {},
   "outputs": [],
   "source": [
    "# transform the restaurant data into a dataframe\n",
    "def restaurants_raw_to_df(search):\n",
    "    columns = {'Alias':[],'Name':[],'Rating':[],\\\n",
    "               'Review_Counts':[],'Category1':[],\\\n",
    "               'Category2':[],'Category3':[],'Category4':[],\\\n",
    "               'Category5':[],'Category6':[],\\\n",
    "               'Latitude':[],'Longitude':[],'Price':[]}\n",
    "    for i in search:\n",
    "        columns['Alias'].append(i['alias'])\n",
    "        columns['Name'].append(i['name'])\n",
    "        columns['Rating'].append(i['rating'])\n",
    "        columns['Review_Counts'].append(i['review_count'])\n",
    "        #categories\n",
    "        columns['Category1'].append(i['categories'][0]['alias'])\n",
    "        columns['Category2'].append(i['categories'][0]['title'])\n",
    "        try:\n",
    "            columns['Category3'].append(i['categories'][1]['alias'])\n",
    "        except:\n",
    "            columns['Category3'].append(None)\n",
    "        try:\n",
    "            columns['Category4'].append(i['categories'][1]['title'])\n",
    "        except:\n",
    "            columns['Category4'].append(None)\n",
    "        try:\n",
    "            columns['Category5'].append(i['categories'][2]['alias'])\n",
    "        except:\n",
    "            columns['Category5'].append(None)\n",
    "        try:\n",
    "            columns['Category6'].append(i['categories'][2]['title'])\n",
    "        except:\n",
    "            columns['Category6'].append(None)\n",
    "        #coordinates\n",
    "        columns['Latitude'].append(i['coordinates']['latitude'])\n",
    "        columns['Longitude'].append(i['coordinates']['longitude'])\n",
    "        try:\n",
    "            columns['Price'].append(i['price'])\n",
    "        except:\n",
    "            columns['Price'].append(None)\n",
    "    return pd.DataFrame(columns)\n",
    "        \n",
    "    \n"
   ]
  },
  {
   "cell_type": "code",
   "execution_count": 5,
   "id": "27c2c36c",
   "metadata": {},
   "outputs": [],
   "source": [
    "# transform the mall data into a dataframe\n",
    "def malls_raw_to_df(search):\n",
    "    columns = {'Alias':[],'Name':[],'Rating':[],\\\n",
    "               'Review_Counts':[],\n",
    "               'Latitude':[],'Longitude':[]}\n",
    "    for i in search:\n",
    "        columns['Alias'].append(i['alias'])\n",
    "        columns['Name'].append(i['name'])\n",
    "        columns['Rating'].append(i['rating'])\n",
    "        columns['Review_Counts'].append(i['review_count'])\n",
    "        #coordinates\n",
    "        columns['Latitude'].append(i['coordinates']['latitude'])\n",
    "        columns['Longitude'].append(i['coordinates']['longitude'])   \n",
    "    return pd.DataFrame(columns)\n"
   ]
  },
  {
   "cell_type": "code",
   "execution_count": 6,
   "id": "0e8cf8dc",
   "metadata": {},
   "outputs": [],
   "source": [
    "def parks_raw_to_df(search):\n",
    "    columns = {'Alias':[],'Name':[],'Rating':[],\\\n",
    "               'Review_Counts':[],'Category1':[],'Category2':[],'Category3':[],\n",
    "               'Latitude':[],'Longitude':[]}\n",
    "    for i in search:\n",
    "        columns['Alias'].append(i['alias'])\n",
    "        columns['Name'].append(i['name'])\n",
    "        columns['Rating'].append(i['rating'])\n",
    "        columns['Review_Counts'].append(i['review_count'])\n",
    "        columns['Category1'].append(i['categories'][0]['alias'])\n",
    "        columns['Category2'].append(i['categories'][0]['title'])\n",
    "        try:\n",
    "            columns['Category3'].append(i['categories'][1]['alias'])\n",
    "        except:\n",
    "            columns['Category3'].append(None)\n",
    "        #coordinates\n",
    "        columns['Latitude'].append(i['coordinates']['latitude'])\n",
    "        columns['Longitude'].append(i['coordinates']['longitude'])   \n",
    "    return pd.DataFrame(columns)"
   ]
  },
  {
   "cell_type": "code",
   "execution_count": 7,
   "id": "df79c056",
   "metadata": {},
   "outputs": [
    {
     "name": "stdout",
     "output_type": "stream",
     "text": [
      "Taken: 50\n",
      "Taken: 100\n",
      "Taken: 150\n",
      "Taken: 200\n",
      "Taken: 250\n",
      "Taken: 300\n",
      "Taken: 350\n",
      "Taken: 400\n",
      "Taken: 450\n",
      "Taken: 500\n",
      "Taken: 550\n",
      "Taken: 600\n",
      "Taken: 650\n",
      "Taken: 700\n",
      "Taken: 750\n",
      "Taken: 800\n",
      "Taken: 850\n",
      "Taken: 900\n",
      "Taken: 950\n",
      "Taken: 1000\n",
      "Taken: 1050\n",
      "Can't Request\n"
     ]
    }
   ],
   "source": [
    "raw_data=get_businesses(\"hongkong\",\"restaurant\",key)"
   ]
  },
  {
   "cell_type": "code",
   "execution_count": 8,
   "id": "05b3837e",
   "metadata": {},
   "outputs": [],
   "source": [
    "#restaurant data\n",
    "df3=restaurants_raw_to_df(raw_data)"
   ]
  },
  {
   "cell_type": "code",
   "execution_count": 9,
   "id": "23330bc0",
   "metadata": {},
   "outputs": [],
   "source": [
    "#df3.to_csv(\"restaurant.csv\",index=False)"
   ]
  },
  {
   "cell_type": "code",
   "execution_count": 10,
   "id": "da5728e2",
   "metadata": {},
   "outputs": [
    {
     "name": "stdout",
     "output_type": "stream",
     "text": [
      "Taken: 50\n",
      "Taken: 100\n",
      "Taken: 150\n",
      "Taken: 200\n",
      "Taken: 250\n",
      "Taken: 300\n",
      "Taken: 350\n",
      "Taken: 400\n",
      "Taken: 450\n",
      "Taken: 500\n",
      "Taken: 550\n",
      "Taken: 600\n",
      "Taken: 650\n",
      "Taken: 700\n",
      "Taken: 750\n",
      "Taken: 800\n",
      "Taken: 850\n",
      "Taken: 900\n",
      "Taken: 950\n",
      "Taken: 1000\n",
      "Taken: 1050\n",
      "Can't Request\n"
     ]
    }
   ],
   "source": [
    "raw_data2=get_businesses(\"hongkong\",\"mall\",key)"
   ]
  },
  {
   "cell_type": "code",
   "execution_count": 11,
   "id": "1c6d76e5",
   "metadata": {},
   "outputs": [],
   "source": [
    "#restaurant data\n",
    "df4=restaurants_raw_to_df(raw_data2)"
   ]
  },
  {
   "cell_type": "code",
   "execution_count": 12,
   "id": "68a22c20",
   "metadata": {},
   "outputs": [],
   "source": [
    "#df4.to_csv(\"mall.csv\",index=False)"
   ]
  },
  {
   "cell_type": "code",
   "execution_count": 14,
   "id": "08204339",
   "metadata": {},
   "outputs": [],
   "source": [
    "#park data\n",
    "park_data = parks_raw_to_df(park_data)\n",
    "#park_data.to_csv(\"park.csv\",index=False)"
   ]
  },
  {
   "cell_type": "code",
   "execution_count": null,
   "id": "1d45b4e0",
   "metadata": {},
   "outputs": [],
   "source": [
    "#mall data\n",
    "malls_data = malls_raw_to_df(mall_data)\n",
    "#mall_data.to_csv(\"malls.csv\",index=False)"
   ]
  },
  {
   "cell_type": "code",
   "execution_count": null,
   "id": "91d45ef4",
   "metadata": {},
   "outputs": [],
   "source": [
    "\n"
   ]
  },
  {
   "cell_type": "code",
   "execution_count": null,
   "id": "d4b9463f",
   "metadata": {},
   "outputs": [],
   "source": []
  }
 ],
 "metadata": {
  "kernelspec": {
   "display_name": "Python 3",
   "language": "python",
   "name": "python3"
  },
  "language_info": {
   "codemirror_mode": {
    "name": "ipython",
    "version": 3
   },
   "file_extension": ".py",
   "mimetype": "text/x-python",
   "name": "python",
   "nbconvert_exporter": "python",
   "pygments_lexer": "ipython3",
   "version": "3.8.8"
  }
 },
 "nbformat": 4,
 "nbformat_minor": 5
}
