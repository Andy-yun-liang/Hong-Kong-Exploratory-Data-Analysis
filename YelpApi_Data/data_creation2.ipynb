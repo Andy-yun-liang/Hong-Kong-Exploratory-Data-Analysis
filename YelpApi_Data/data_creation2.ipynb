{
 "cells": [
  {
   "cell_type": "code",
   "execution_count": 42,
   "id": "89ed447b",
   "metadata": {},
   "outputs": [],
   "source": [
    "import requests\n",
    "import numpy as np\n",
    "import pandas as pd"
   ]
  },
  {
   "cell_type": "code",
   "execution_count": 43,
   "id": "4dd7463b",
   "metadata": {},
   "outputs": [],
   "source": [
    "url = 'https://api.yelp.com/v3/businesses/search'\n",
    "key = 'Your key'\n",
    "headers = {\n",
    "    'Authorization': 'Bearer %s' % key\n",
    "}"
   ]
  },
  {
   "cell_type": "code",
   "execution_count": 44,
   "id": "bdf36e83",
   "metadata": {},
   "outputs": [],
   "source": [
    "parameters = {'location':'hongkong',\n",
    "         'term':'parks',\n",
    "         'radius':40000,\n",
    "         'limit':50}"
   ]
  },
  {
   "cell_type": "code",
   "execution_count": 45,
   "id": "a66743a7",
   "metadata": {},
   "outputs": [
    {
     "data": {
      "text/plain": [
       "<Response [200]>"
      ]
     },
     "execution_count": 45,
     "metadata": {},
     "output_type": "execute_result"
    }
   ],
   "source": [
    "response = requests.get(url,headers = headers,params = parameters)\n",
    "response"
   ]
  },
  {
   "cell_type": "code",
   "execution_count": 46,
   "id": "65aa5d95",
   "metadata": {},
   "outputs": [
    {
     "data": {
      "text/plain": [
       "{'id': '0UJm08KZpZYFgfqJh8coJA',\n",
       " 'alias': '香港公園-香港',\n",
       " 'name': 'Hong Kong Park',\n",
       " 'image_url': 'https://s3-media2.fl.yelpcdn.com/bphoto/TpEz4QZXJ5hD6DUoPhfSCQ/o.jpg',\n",
       " 'is_closed': False,\n",
       " 'url': 'https://www.yelp.com/biz/%E9%A6%99%E6%B8%AF%E5%85%AC%E5%9C%92-%E9%A6%99%E6%B8%AF?adjust_creative=NFkS-qBskwoqQDQvnFocOw&utm_campaign=yelp_api_v3&utm_medium=api_v3_business_search&utm_source=NFkS-qBskwoqQDQvnFocOw',\n",
       " 'review_count': 31,\n",
       " 'categories': [{'alias': 'parks', 'title': 'Parks'},\n",
       "  {'alias': 'zoos', 'title': 'Zoos'},\n",
       "  {'alias': 'gardens', 'title': 'Botanical Gardens'}],\n",
       " 'rating': 4.5,\n",
       " 'coordinates': {'latitude': 22.277652, 'longitude': 114.163118},\n",
       " 'transactions': [],\n",
       " 'location': {'address1': '紅棉路19號',\n",
       "  'address2': None,\n",
       "  'address3': None,\n",
       "  'city': 'Hong Kong',\n",
       "  'zip_code': '',\n",
       "  'country': 'HK',\n",
       "  'state': 'HK',\n",
       "  'display_address': ['19 Cotton Tree Dr', '紅棉路19號', 'Hong Kong']},\n",
       " 'phone': '+85225215041',\n",
       " 'display_phone': '+852 2521 5041',\n",
       " 'distance': 9328.978330027025}"
      ]
     },
     "execution_count": 46,
     "metadata": {},
     "output_type": "execute_result"
    }
   ],
   "source": [
    "response.json()['businesses'][1]"
   ]
  },
  {
   "cell_type": "code",
   "execution_count": 32,
   "id": "2b926e8a",
   "metadata": {},
   "outputs": [],
   "source": [
    "def get_businesses(location, term, API_key):\n",
    "    headers = {'Authorization': 'Bearer %s' % API_key}\n",
    "    url = 'https://api.yelp.com/v3/businesses/search'\n",
    "    data = []\n",
    "    for offset in range(0, 2000, 50):\n",
    "        params = {\n",
    "            'limit': 50, \n",
    "            'location': location.replace(' ', '+'),\n",
    "            'term': term.replace(' ', '+'),\n",
    "            'offset': offset,\n",
    "            'radius':40000\n",
    "        }\n",
    "        print(\"Taken:\",offset+50)\n",
    "        response = requests.get(url, headers=headers, params=params)\n",
    "        if response.status_code == 200:\n",
    "            data += response.json()['businesses']\n",
    "        else:\n",
    "            print(\"Can't Request\")\n",
    "            break\n",
    "\n",
    "    return data"
   ]
  },
  {
   "cell_type": "code",
   "execution_count": 36,
   "id": "350c60b1",
   "metadata": {},
   "outputs": [],
   "source": [
    "def malls_raw_to_df(search):\n",
    "    columns = {'Alias':[],'Name':[],'Rating':[],\\\n",
    "               'Review_Counts':[],\n",
    "               'Latitude':[],'Longitude':[]}\n",
    "    for i in search:\n",
    "        columns['Alias'].append(i['alias'])\n",
    "        columns['Name'].append(i['name'])\n",
    "        columns['Rating'].append(i['rating'])\n",
    "        columns['Review_Counts'].append(i['review_count'])\n",
    "        #coordinates\n",
    "        columns['Latitude'].append(i['coordinates']['latitude'])\n",
    "        columns['Longitude'].append(i['coordinates']['longitude'])   \n",
    "    return pd.DataFrame(columns)\n"
   ]
  },
  {
   "cell_type": "code",
   "execution_count": 37,
   "id": "27ed7d27",
   "metadata": {},
   "outputs": [
    {
     "name": "stdout",
     "output_type": "stream",
     "text": [
      "Taken: 50\n",
      "Taken: 100\n",
      "Taken: 150\n",
      "Taken: 200\n",
      "Taken: 250\n",
      "Taken: 300\n",
      "Taken: 350\n",
      "Taken: 400\n",
      "Taken: 450\n",
      "Taken: 500\n",
      "Taken: 550\n",
      "Taken: 600\n",
      "Taken: 650\n",
      "Taken: 700\n",
      "Taken: 750\n",
      "Taken: 800\n",
      "Taken: 850\n",
      "Taken: 900\n",
      "Taken: 950\n",
      "Taken: 1000\n",
      "Taken: 1050\n",
      "Can't Request\n"
     ]
    }
   ],
   "source": [
    "mall_data=get_businesses(\"hongkong\",\"mall\",key)"
   ]
  },
  {
   "cell_type": "code",
   "execution_count": 39,
   "id": "7ecd0677",
   "metadata": {},
   "outputs": [],
   "source": [
    "malls_data = malls_raw_to_df(mall_data)"
   ]
  },
  {
   "cell_type": "code",
   "execution_count": 41,
   "id": "1cce0efe",
   "metadata": {},
   "outputs": [],
   "source": [
    "malls_data.to_csv(\"malls.csv\",index=False)"
   ]
  },
  {
   "cell_type": "code",
   "execution_count": 47,
   "id": "b96a035d",
   "metadata": {},
   "outputs": [
    {
     "data": {
      "text/plain": [
       "{'id': '0UJm08KZpZYFgfqJh8coJA',\n",
       " 'alias': '香港公園-香港',\n",
       " 'name': 'Hong Kong Park',\n",
       " 'image_url': 'https://s3-media2.fl.yelpcdn.com/bphoto/TpEz4QZXJ5hD6DUoPhfSCQ/o.jpg',\n",
       " 'is_closed': False,\n",
       " 'url': 'https://www.yelp.com/biz/%E9%A6%99%E6%B8%AF%E5%85%AC%E5%9C%92-%E9%A6%99%E6%B8%AF?adjust_creative=NFkS-qBskwoqQDQvnFocOw&utm_campaign=yelp_api_v3&utm_medium=api_v3_business_search&utm_source=NFkS-qBskwoqQDQvnFocOw',\n",
       " 'review_count': 31,\n",
       " 'categories': [{'alias': 'parks', 'title': 'Parks'},\n",
       "  {'alias': 'zoos', 'title': 'Zoos'},\n",
       "  {'alias': 'gardens', 'title': 'Botanical Gardens'}],\n",
       " 'rating': 4.5,\n",
       " 'coordinates': {'latitude': 22.277652, 'longitude': 114.163118},\n",
       " 'transactions': [],\n",
       " 'location': {'address1': '紅棉路19號',\n",
       "  'address2': None,\n",
       "  'address3': None,\n",
       "  'city': 'Hong Kong',\n",
       "  'zip_code': '',\n",
       "  'country': 'HK',\n",
       "  'state': 'HK',\n",
       "  'display_address': ['19 Cotton Tree Dr', '紅棉路19號', 'Hong Kong']},\n",
       " 'phone': '+85225215041',\n",
       " 'display_phone': '+852 2521 5041',\n",
       " 'distance': 9328.978330027025}"
      ]
     },
     "execution_count": 47,
     "metadata": {},
     "output_type": "execute_result"
    }
   ],
   "source": [
    "response.json()['businesses'][1]"
   ]
  },
  {
   "cell_type": "code",
   "execution_count": 49,
   "id": "94ea0f43",
   "metadata": {},
   "outputs": [
    {
     "data": {
      "text/plain": [
       "{'id': 'CaaVB1OvBv4bsgkI_Of1BA',\n",
       " 'alias': '順利邨公園-香港',\n",
       " 'name': 'Shun Lee Tsuen Park',\n",
       " 'image_url': 'https://s3-media4.fl.yelpcdn.com/bphoto/vZo_KtA-a2X-yTQ5AUEQvg/o.jpg',\n",
       " 'is_closed': False,\n",
       " 'url': 'https://www.yelp.com/biz/%E9%A0%86%E5%88%A9%E9%82%A8%E5%85%AC%E5%9C%92-%E9%A6%99%E6%B8%AF?adjust_creative=NFkS-qBskwoqQDQvnFocOw&utm_campaign=yelp_api_v3&utm_medium=api_v3_business_search&utm_source=NFkS-qBskwoqQDQvnFocOw',\n",
       " 'review_count': 1,\n",
       " 'categories': [{'alias': 'parks', 'title': 'Parks'}],\n",
       " 'rating': 4.0,\n",
       " 'coordinates': {'latitude': 22.33042, 'longitude': 114.225006},\n",
       " 'transactions': [],\n",
       " 'location': {'address1': '順利邨道',\n",
       "  'address2': None,\n",
       "  'address3': None,\n",
       "  'city': 'Hong Kong',\n",
       "  'zip_code': None,\n",
       "  'country': 'HK',\n",
       "  'state': 'HK',\n",
       "  'display_address': ['Shun Lee Tsuen Road', '順利邨道', 'Hong Kong']},\n",
       " 'phone': '+85229514136',\n",
       " 'display_phone': '+852 2951 4136',\n",
       " 'distance': 9799.873888194004}"
      ]
     },
     "execution_count": 49,
     "metadata": {},
     "output_type": "execute_result"
    }
   ],
   "source": [
    "response.json()['businesses'][3]"
   ]
  },
  {
   "cell_type": "code",
   "execution_count": null,
   "id": "f45cefa8",
   "metadata": {},
   "outputs": [],
   "source": []
  },
  {
   "cell_type": "code",
   "execution_count": null,
   "id": "cebb879c",
   "metadata": {},
   "outputs": [],
   "source": [
    "#parks"
   ]
  },
  {
   "cell_type": "code",
   "execution_count": 51,
   "id": "3a3e88a3",
   "metadata": {},
   "outputs": [],
   "source": [
    "def parks_raw_to_df(search):\n",
    "    columns = {'Alias':[],'Name':[],'Rating':[],\\\n",
    "               'Review_Counts':[],'Category1':[],'Category2':[],'Category3':[],\n",
    "               'Latitude':[],'Longitude':[]}\n",
    "    for i in search:\n",
    "        columns['Alias'].append(i['alias'])\n",
    "        columns['Name'].append(i['name'])\n",
    "        columns['Rating'].append(i['rating'])\n",
    "        columns['Review_Counts'].append(i['review_count'])\n",
    "        columns['Category1'].append(i['categories'][0]['alias'])\n",
    "        columns['Category2'].append(i['categories'][0]['title'])\n",
    "        try:\n",
    "            columns['Category3'].append(i['categories'][1]['alias'])\n",
    "        except:\n",
    "            columns['Category3'].append(None)\n",
    "        #coordinates\n",
    "        columns['Latitude'].append(i['coordinates']['latitude'])\n",
    "        columns['Longitude'].append(i['coordinates']['longitude'])   \n",
    "    return pd.DataFrame(columns)"
   ]
  },
  {
   "cell_type": "code",
   "execution_count": 52,
   "id": "5de3b794",
   "metadata": {},
   "outputs": [
    {
     "name": "stdout",
     "output_type": "stream",
     "text": [
      "Taken: 50\n",
      "Taken: 100\n",
      "Taken: 150\n",
      "Taken: 200\n",
      "Taken: 250\n",
      "Taken: 300\n",
      "Taken: 350\n",
      "Taken: 400\n",
      "Taken: 450\n",
      "Taken: 500\n",
      "Taken: 550\n",
      "Taken: 600\n",
      "Taken: 650\n",
      "Taken: 700\n",
      "Taken: 750\n",
      "Taken: 800\n",
      "Taken: 850\n",
      "Taken: 900\n",
      "Taken: 950\n",
      "Taken: 1000\n",
      "Taken: 1050\n",
      "Can't Request\n"
     ]
    }
   ],
   "source": [
    "park_data=get_businesses(\"hongkong\",\"parks\",key)"
   ]
  },
  {
   "cell_type": "code",
   "execution_count": 54,
   "id": "2d7e9949",
   "metadata": {},
   "outputs": [],
   "source": [
    "park_data = parks_raw_to_df(park_data)"
   ]
  },
  {
   "cell_type": "code",
   "execution_count": 56,
   "id": "4a1498a2",
   "metadata": {},
   "outputs": [],
   "source": [
    "park_data.to_csv(\"parks.csv\",index=False)"
   ]
  },
  {
   "cell_type": "code",
   "execution_count": null,
   "id": "51099306",
   "metadata": {},
   "outputs": [],
   "source": []
  },
  {
   "cell_type": "code",
   "execution_count": null,
   "id": "b39c8aeb",
   "metadata": {},
   "outputs": [],
   "source": []
  },
  {
   "cell_type": "code",
   "execution_count": null,
   "id": "16d2c9a4",
   "metadata": {},
   "outputs": [],
   "source": []
  },
  {
   "cell_type": "code",
   "execution_count": null,
   "id": "ba8f7ef3",
   "metadata": {},
   "outputs": [],
   "source": []
  }
 ],
 "metadata": {
  "kernelspec": {
   "display_name": "Python 3",
   "language": "python",
   "name": "python3"
  },
  "language_info": {
   "codemirror_mode": {
    "name": "ipython",
    "version": 3
   },
   "file_extension": ".py",
   "mimetype": "text/x-python",
   "name": "python",
   "nbconvert_exporter": "python",
   "pygments_lexer": "ipython3",
   "version": "3.8.8"
  }
 },
 "nbformat": 4,
 "nbformat_minor": 5
}
